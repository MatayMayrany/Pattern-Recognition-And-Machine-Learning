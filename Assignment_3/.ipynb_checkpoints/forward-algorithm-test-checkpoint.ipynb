{
 "cells": [
  {
   "cell_type": "code",
   "execution_count": 1,
   "metadata": {},
   "outputs": [
    {
     "name": "stdout",
     "output_type": "stream",
     "text": [
      "Values for finite duration HMM:\n",
      "alfaHat:\n",
      "[[1.     0.0588 0.0711]\n",
      " [1.     0.9412 0.9289]]\n",
      "c: \n",
      "[1.     1.0625 0.7447 0.0929]\n"
     ]
    }
   ],
   "source": [
    "from PattRecClasses import GaussD, HMM, MarkovChain\n",
    "import numpy as np\n",
    "\n",
    "#Test Forward algorithm FINITE CHAIN\n",
    "finiteDurationMC = MarkovChain(np.array([1, 0]), np.array([[0.9, 0.1, 0], [0, 0.9, 0.1]])) \n",
    "\n",
    "g1 = GaussD( means=[0], stdevs=[1] )   # Distribution for state = 1\n",
    "g2 = GaussD( means=[3], stdevs=[2] )   # Distribution for state = 2\n",
    "finiteDurationHMM  = HMM(finiteDurationMC, [g1, g2]) \n",
    "observations = np.array([-0.2, 2.6, 1.3])\n",
    "scaledProbOfObservations = finiteDurationHMM.prob(observations, True)\n",
    "alpha, c = finiteDurationMC.forward(scaledProbOfObservations)\n",
    "print(\"Values for finite duration HMM:\")\n",
    "print(\"alfaHat:\")\n",
    "print(np.around(alpha, 4))\n",
    "print(\"c: \")\n",
    "print(np.around(c, 4))"
   ]
  },
  {
   "cell_type": "code",
   "execution_count": 2,
   "metadata": {},
   "outputs": [
    {
     "name": "stdout",
     "output_type": "stream",
     "text": [
      "Values for infinite duration HMM:\n",
      "alfaHat:\n",
      "[[1.    0.065 0.181]\n",
      " [1.    0.935 0.819]]\n",
      "c: \n",
      "[1.     1.0695 0.8398]\n"
     ]
    }
   ],
   "source": [
    "#Test Forward algorithm NON-FINITE CHAIN\n",
    "nonfiniteDurationMC = MarkovChain( np.array([1, 0]), np.array([[0.9, 0.1], [0.1, 0.9]])) \n",
    "nonfiniteDurationHMM  = HMM(nonfiniteDurationMC, [g1, g2]) \n",
    "scaledProbOfObservations = nonfiniteDurationHMM.prob(observations, True)\n",
    "alpha, c = nonfiniteDurationMC.forward(scaledProbOfObservations)\n",
    "print(\"Values for infinite duration HMM:\")\n",
    "print(\"alfaHat:\")\n",
    "print(np.around(alpha, 4))\n",
    "print(\"c: \")\n",
    "print(np.around(c, 4))"
   ]
  },
  {
   "cell_type": "code",
   "execution_count": 3,
   "metadata": {},
   "outputs": [
    {
     "name": "stdout",
     "output_type": "stream",
     "text": [
      "logprob:  -6.945382537181742\n"
     ]
    }
   ],
   "source": [
    "#Test logprob\n",
    "logprob = finiteDurationHMM.logprob(observations)\n",
    "print(\"logprob: \", logprob)"
   ]
  }
 ],
 "metadata": {
  "kernelspec": {
   "display_name": "Python 3 (ipykernel)",
   "language": "python",
   "name": "python3"
  },
  "language_info": {
   "codemirror_mode": {
    "name": "ipython",
    "version": 3
   },
   "file_extension": ".py",
   "mimetype": "text/x-python",
   "name": "python",
   "nbconvert_exporter": "python",
   "pygments_lexer": "ipython3",
   "version": "3.9.12"
  }
 },
 "nbformat": 4,
 "nbformat_minor": 4
}
