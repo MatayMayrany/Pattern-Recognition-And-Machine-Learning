{
 "cells": [
  {
   "cell_type": "code",
   "execution_count": 1,
   "id": "77122516-9246-4cec-82b3-d89251f3819c",
   "metadata": {},
   "outputs": [
    {
     "name": "stdout",
     "output_type": "stream",
     "text": [
      "C:  [1, 0.1625, 0.8266, 0.0581]\n"
     ]
    },
    {
     "ename": "IndexError",
     "evalue": "index 3 is out of bounds for axis 1 with size 3",
     "output_type": "error",
     "traceback": [
      "\u001b[0;31m---------------------------------------------------------------------------\u001b[0m",
      "\u001b[0;31mIndexError\u001b[0m                                Traceback (most recent call last)",
      "Input \u001b[0;32mIn [1]\u001b[0m, in \u001b[0;36m<cell line: 15>\u001b[0;34m()\u001b[0m\n\u001b[1;32m     13\u001b[0m c \u001b[38;5;241m=\u001b[39m [\u001b[38;5;241m1\u001b[39m, \u001b[38;5;241m0.1625\u001b[39m, \u001b[38;5;241m0.8266\u001b[39m, \u001b[38;5;241m0.0581\u001b[39m]\n\u001b[1;32m     14\u001b[0m \u001b[38;5;28mprint\u001b[39m(\u001b[38;5;124m\"\u001b[39m\u001b[38;5;124mC: \u001b[39m\u001b[38;5;124m\"\u001b[39m, c)\n\u001b[0;32m---> 15\u001b[0m beta \u001b[38;5;241m=\u001b[39m \u001b[43mfiniteDurationMC\u001b[49m\u001b[38;5;241;43m.\u001b[39;49m\u001b[43mbackward\u001b[49m\u001b[43m(\u001b[49m\u001b[43mscaledProbOfObservations\u001b[49m\u001b[43m,\u001b[49m\u001b[43m \u001b[49m\u001b[43mobservations\u001b[49m\u001b[43m,\u001b[49m\u001b[43m \u001b[49m\u001b[43mc\u001b[49m\u001b[43m)\u001b[49m\n\u001b[1;32m     16\u001b[0m \u001b[38;5;28mprint\u001b[39m(\u001b[38;5;124m\"\u001b[39m\u001b[38;5;124mValues for finite duration HMM:\u001b[39m\u001b[38;5;124m\"\u001b[39m)\n\u001b[1;32m     17\u001b[0m \u001b[38;5;28mprint\u001b[39m(\u001b[38;5;124m\"\u001b[39m\u001b[38;5;124mbetaHat:\u001b[39m\u001b[38;5;124m\"\u001b[39m)\n",
      "File \u001b[0;32m~/Desktop/kth/Pattern-Recognition-and-Machin-Learning/Assignment_4/PattRecClasses/MarkovChain.py:162\u001b[0m, in \u001b[0;36mMarkovChain.backward\u001b[0;34m(self, scaledProbOfObservations, observations, c)\u001b[0m\n\u001b[1;32m    160\u001b[0m \u001b[38;5;66;03m#Initialization Step\u001b[39;00m\n\u001b[1;32m    161\u001b[0m \u001b[38;5;28;01mif\u001b[39;00m \u001b[38;5;28mself\u001b[39m\u001b[38;5;241m.\u001b[39mis_finite:\n\u001b[0;32m--> 162\u001b[0m     beta[:, T \u001b[38;5;241m-\u001b[39m \u001b[38;5;241m1\u001b[39m] \u001b[38;5;241m=\u001b[39m \u001b[38;5;28;43mself\u001b[39;49m\u001b[38;5;241;43m.\u001b[39;49m\u001b[43mA\u001b[49m\u001b[43m[\u001b[49m\u001b[43m:\u001b[49m\u001b[43m,\u001b[49m\u001b[43m \u001b[49m\u001b[43mJ\u001b[49m\u001b[43m \u001b[49m\u001b[38;5;241;43m+\u001b[39;49m\u001b[43m \u001b[49m\u001b[38;5;241;43m1\u001b[39;49m\u001b[43m]\u001b[49m \u001b[38;5;241m/\u001b[39m (c[T \u001b[38;5;241m-\u001b[39m \u001b[38;5;241m1\u001b[39m] \u001b[38;5;241m*\u001b[39m c[T])\n\u001b[1;32m    163\u001b[0m \u001b[38;5;28;01melse\u001b[39;00m:\n\u001b[1;32m    164\u001b[0m     beta[:, T \u001b[38;5;241m-\u001b[39m \u001b[38;5;241m1\u001b[39m] \u001b[38;5;241m=\u001b[39m one \u001b[38;5;241m/\u001b[39m c[T \u001b[38;5;241m-\u001b[39m \u001b[38;5;241m1\u001b[39m]\n",
      "\u001b[0;31mIndexError\u001b[0m: index 3 is out of bounds for axis 1 with size 3"
     ]
    }
   ],
   "source": [
    "from PattRecClasses import GaussD, HMM, MarkovChain\n",
    "import numpy as np\n",
    "\n",
    "#Test Backward algorithm FINITE CHAIN\n",
    "finiteDurationMC = MarkovChain(np.array([1, 0]), np.array([[0.9, 0.1, 0], [0, 0.9, 0.1]])) \n",
    "\n",
    "g1 = GaussD( means=[0], stdevs=[1] )   # Distribution for state = 1\n",
    "g2 = GaussD( means=[3], stdevs=[2] )   # Distribution for state = 2\n",
    "finiteDurationHMM  = HMM(finiteDurationMC, [g1, g2]) \n",
    "observations = np.array([-0.2, 2.6, 1.3])\n",
    "scaledProbOfObservations = finiteDurationHMM.prob(observations, True)\n",
    "alpha, c = finiteDurationMC.forward(scaledProbOfObservations)\n",
    "c = [1, 0.1625, 0.8266, 0.0581]\n",
    "print(\"C: \", c)\n",
    "beta = finiteDurationMC.backward(scaledProbOfObservations, observations, c)\n",
    "print(\"Values for finite duration HMM:\")\n",
    "print(\"betaHat:\")\n",
    "print(np.around(beta, 4))"
   ]
  },
  {
   "cell_type": "code",
   "execution_count": null,
   "id": "9f7c0718-3041-4418-88e2-ed98d0722d78",
   "metadata": {},
   "outputs": [],
   "source": [
    "#Test Forward algorithm NON-FINITE CHAIN\n",
    "nonfiniteDurationMC = MarkovChain( np.array([1, 0]), np.array([[0.9, 0.1], [0.1, 0.9]])) \n",
    "nonfiniteDurationHMM  = HMM(nonfiniteDurationMC, [g1, g2]) \n",
    "scaledProbOfObservations = nonfiniteDurationHMM.prob(observations, True)\n",
    "alpha, c = nonfiniteDurationMC.forward(scaledProbOfObservations)\n",
    "beta = nonfiniteDurationMC.backward(scaledProbOfObservations, observations, c)\n",
    "print(\"Values for infinite duration HMM:\")\n",
    "print(\"betaHat:\")\n",
    "print(np.around(beta, 4))"
   ]
  },
  {
   "cell_type": "code",
   "execution_count": null,
   "id": "d92dd3ec-3360-4ebc-b9c1-181108b01b4b",
   "metadata": {},
   "outputs": [],
   "source": []
  }
 ],
 "metadata": {
  "kernelspec": {
   "display_name": "Python 3 (ipykernel)",
   "language": "python",
   "name": "python3"
  },
  "language_info": {
   "codemirror_mode": {
    "name": "ipython",
    "version": 3
   },
   "file_extension": ".py",
   "mimetype": "text/x-python",
   "name": "python",
   "nbconvert_exporter": "python",
   "pygments_lexer": "ipython3",
   "version": "3.9.12"
  }
 },
 "nbformat": 4,
 "nbformat_minor": 5
}
