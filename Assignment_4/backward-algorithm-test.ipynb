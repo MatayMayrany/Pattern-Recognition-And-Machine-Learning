{
 "cells": [
  {
   "cell_type": "code",
   "execution_count": 1,
   "id": "77122516-9246-4cec-82b3-d89251f3819c",
   "metadata": {},
   "outputs": [
    {
     "name": "stdout",
     "output_type": "stream",
     "text": [
      "C:  [1, 0.1625, 0.8266, 0.0581]\n",
      "Values for finite duration HMM:\n",
      "betaHat:\n",
      "[[1.0003 1.0393 0.    ]\n",
      " [8.4182 9.3536 2.0822]]\n"
     ]
    }
   ],
   "source": [
    "from PattRecClasses import GaussD, HMM, MarkovChain\n",
    "import numpy as np\n",
    "\n",
    "#Test Backward algorithm FINITE CHAIN\n",
    "finiteDurationMC = MarkovChain(np.array([1, 0]), np.array([[0.9, 0.1, 0], [0, 0.9, 0.1]])) \n",
    "\n",
    "g1 = GaussD( means=[0], stdevs=[1] )   # Distribution for state = 1\n",
    "g2 = GaussD( means=[3], stdevs=[2] )   # Distribution for state = 2\n",
    "finiteDurationHMM  = HMM(finiteDurationMC, [g1, g2]) \n",
    "observations = np.array([-0.2, 2.6, 1.3])\n",
    "scaledProbOfObservations = finiteDurationHMM.prob(observations, True)\n",
    "alpha, c = finiteDurationMC.forward(scaledProbOfObservations)\n",
    "c = [1, 0.1625, 0.8266, 0.0581]\n",
    "print(\"C: \", c)\n",
    "beta = finiteDurationMC.backward(scaledProbOfObservations, observations, c)\n",
    "print(\"Values for finite duration HMM:\")\n",
    "print(\"betaHat:\")\n",
    "print(np.around(beta, 4))"
   ]
  },
  {
   "cell_type": "code",
   "execution_count": 2,
   "id": "9f7c0718-3041-4418-88e2-ed98d0722d78",
   "metadata": {},
   "outputs": [
    {
     "name": "stdout",
     "output_type": "stream",
     "text": [
      "Values for infinite duration HMM:\n",
      "betaHat:\n",
      "[[1.     6.7973 1.126 ]\n",
      " [5.2223 5.7501 1.126 ]]\n"
     ]
    }
   ],
   "source": [
    "#Test Forward algorithm NON-FINITE CHAIN\n",
    "nonfiniteDurationMC = MarkovChain( np.array([1, 0]), np.array([[0.9, 0.1], [0.1, 0.9]])) \n",
    "nonfiniteDurationHMM  = HMM(nonfiniteDurationMC, [g1, g2]) \n",
    "scaledProbOfObservations = nonfiniteDurationHMM.prob(observations, True)\n",
    "alpha, c = nonfiniteDurationMC.forward(scaledProbOfObservations)\n",
    "beta = nonfiniteDurationMC.backward(scaledProbOfObservations, observations, c)\n",
    "print(\"Values for infinite duration HMM:\")\n",
    "print(\"betaHat:\")\n",
    "print(np.around(beta, 4))"
   ]
  },
  {
   "cell_type": "code",
   "execution_count": null,
   "id": "d92dd3ec-3360-4ebc-b9c1-181108b01b4b",
   "metadata": {},
   "outputs": [],
   "source": []
  }
 ],
 "metadata": {
  "kernelspec": {
   "display_name": "Python 3 (ipykernel)",
   "language": "python",
   "name": "python3"
  },
  "language_info": {
   "codemirror_mode": {
    "name": "ipython",
    "version": 3
   },
   "file_extension": ".py",
   "mimetype": "text/x-python",
   "name": "python",
   "nbconvert_exporter": "python",
   "pygments_lexer": "ipython3",
   "version": "3.9.12"
  }
 },
 "nbformat": 4,
 "nbformat_minor": 5
}
