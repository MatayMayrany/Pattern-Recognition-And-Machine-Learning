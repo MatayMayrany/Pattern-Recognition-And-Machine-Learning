{
 "cells": [
  {
   "cell_type": "code",
   "execution_count": 1,
   "id": "77122516-9246-4cec-82b3-d89251f3819c",
   "metadata": {},
   "outputs": [
    {
     "name": "stdout",
     "output_type": "stream",
     "text": [
      "testSampleRate = 0.853375s\n"
     ]
    }
   ],
   "source": [
    "# Task is to classify the following words from audio files yes, no, up, down, left, right, on, off, stop, go, and noise\n",
    "from scipy.io import wavfile\n",
    "import sounddevice as sd\n",
    "import matplotlib.pyplot as plt\n",
    "import numpy as np\n",
    "from matplotlib import colors\n",
    "import os\n",
    "\n",
    "audioDataPath = \"train/audio/\"\n",
    "mfccDataPath = \"mfcc/data/\"\n",
    "mfccDynamicDataPath = \"mfcc/data/dynamic/\"\n",
    "mfccTransformDataPath = \"mfcc/transform/data/\"\n",
    "mfccTransformDynamicDataPath = \"mfcc/transfrom/dynamic/data/\"\n",
    "\n",
    "wordsToRecognize = [\"yes\", \"no\", \"up\", \"down\", \"left\", \"right\", \"on\", \"off\", \"stop\", \"go\"]\n",
    "\n",
    "def readAudioFile(path):\n",
    "    samplerate, data = wavfile.read(path)\n",
    "    data = data / (2**15) \n",
    "    return data, samplerate\n",
    "    \n",
    "\n",
    "testSampleData, testSampleRate = readAudioFile(\"train/audio/down/0a9f9af7_nohash_0.wav\")\n",
    "testLength = testSampleData.shape[0] / testSampleRate\n",
    "print(f\"testSampleRate = {testLength}s\")"
   ]
  },
  {
   "cell_type": "code",
   "execution_count": 2,
   "id": "9f7c0718-3041-4418-88e2-ed98d0722d78",
   "metadata": {},
   "outputs": [],
   "source": [
    "# PART 3 Cepstrograms\n",
    "from python_speech_features import mfcc\n",
    "from scipy.stats import zscore\n",
    "from scipy import signal\n",
    "from python_speech_features import delta\n",
    "\n",
    "\n",
    "def getFeaturesFromAudioData(data, sampleRate):\n",
    "    mfccData = mfcc(data, sampleRate, winlen=0.03, nfft=1024)\n",
    "    normalizedMfccData = zscore(mfccData, axis=1, ddof=1)\n",
    "    \n",
    "    return normalizedMfccData\n",
    "\n",
    "## Include later to get better accuracy \n",
    "#     mfccDataDelta1 = delta(mfccData, 2)\n",
    "#     normalizedMfccDataDelta = zscore(mfccDataDelta1, axis=1, ddof=1)\n",
    "\n",
    "#     mfccDataDelta2 = delta(mfccDataDelta1, 2)\n",
    "#     normalizedMfccDataDelta2 = zscore(mfccDataDelta2, axis=1, ddof=1)\n",
    "\n",
    "#     features = np.concatenate((normalizedMfccData, normalizedMfccDataDelta, normalizedMfccDataDelta2), axis=1)\n",
    "#     return features\n",
    "\n"
   ]
  },
  {
   "cell_type": "code",
   "execution_count": 4,
   "id": "2c0ee983-3f27-4d6d-ab04-1e587c8ea52d",
   "metadata": {},
   "outputs": [
    {
     "data": {
      "image/png": "[encoded data removed]",
      "text/plain": [
       "<Figure size 720x360 with 1 Axes>"
      ]
     },
     "metadata": {
      "needs_background": "light"
     },
     "output_type": "display_data"
    }
   ],
   "source": [
    "for word in wordsToRecognize:\n",
    "    count = 0\n",
    "    testCount = 0\n",
    "    dataDirectory = os.fsencode(audioDataPath + word)\n",
    "    trainingDataDirectoryPath = mfccTransformDataPath + word + \"/train/\"\n",
    "    testDataDirectoryPath = mfccTransformDataPath + word + \"/test/\"\n",
    "    \n",
    "    for file in os.listdir(trainingDataDirectory):\n",
    "        audioFileName = os.fsdecode(file)\n",
    "        if audioFileName.endswith(\".wav\"):\n",
    "            data, sampleRate = readAudioFile(audioDataPath + word + \"/\" + audioFileName)\n",
    "            features = getFeaturesFromAudioData(data, sampleRate)\n",
    "            count += 1\n",
    "            if count % 10 == 0:\n",
    "                if not os.path.exists(testDataDirectoryPath):\n",
    "                    os.makedirs(testDataDirectoryPath)\n",
    "                testCount += 1\n",
    "                np.save(testDataDirectoryPath + str(testCount) + \".npy\", features.T)\n",
    "            else: \n",
    "                if not os.path.exists(trainingDataDirectoryPath):\n",
    "                    os.makedirs(trainingDataDirectoryPath)\n",
    "                np.save(trainingDataDirectoryPath + str(count) + \".npy\", features.T)"
   ]
  },
  {
   "cell_type": "code",
   "execution_count": 5,
   "id": "c89d6fd2-72d2-4e9d-aaf5-f1c9d53ed371",
   "metadata": {},
   "outputs": [
    {
     "name": "stdout",
     "output_type": "stream",
     "text": [
      "[[-1.15796677 -1.77858185 -0.91070751 ...  0.16357296 -1.30165663\n",
      "  -1.42729736]\n",
      " [-1.09404959 -1.79494472 -0.94777161 ... -1.0424962  -1.63708301\n",
      "  -1.40641406]\n",
      " [-1.17647304 -1.86249091 -0.74811606 ... -2.31548974 -0.79824355\n",
      "  -0.96324748]\n",
      " ...\n",
      " [-0.26737718  0.86461775 -0.12281587 ... -0.04308184 -0.9471223\n",
      "   1.53365165]\n",
      " [-0.27704328  0.69913651  0.0899572  ...  0.12367121 -0.59856865\n",
      "   1.64064641]\n",
      " [-0.48484206  0.5053619   0.64871594 ...  0.60785133  0.0372883\n",
      "   0.66186998]]\n"
     ]
    }
   ],
   "source": []
  }
 ],
 "metadata": {
  "kernelspec": {
   "display_name": "Python 3 (ipykernel)",
   "language": "python",
   "name": "python3"
  },
  "language_info": {
   "codemirror_mode": {
    "name": "ipython",
    "version": 3
   },
   "file_extension": ".py",
   "mimetype": "text/x-python",
   "name": "python",
   "nbconvert_exporter": "python",
   "pygments_lexer": "ipython3",
   "version": "3.9.12"
  }
 },
 "nbformat": 4,
 "nbformat_minor": 5
}
