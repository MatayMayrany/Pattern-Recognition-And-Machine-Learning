{
 "cells": [
  {
   "cell_type": "code",
   "execution_count": null,
   "id": "5e5a2675-bdf3-48b5-98d4-863c6863855b",
   "metadata": {},
   "outputs": [],
   "source": []
  },
  {
   "cell_type": "code",
   "execution_count": null,
   "id": "d4a0983a-c403-427a-a11a-de4f8ba39965",
   "metadata": {},
   "outputs": [
    {
     "name": "stdout",
     "output_type": "stream",
     "text": [
      "[0.25 0.25 0.25 0.25 0.  ]\n",
      "[[0.25  0.25  0.25  0.25  0.   ]\n",
      " [0.25  0.25  0.25  0.25  0.   ]\n",
      " [0.25  0.25  0.25  0.25  0.   ]\n",
      " [0.25  0.25  0.25  0.125 0.125]]\n",
      "[<PattRecClasses.GaussD.GaussD object at 0x146495e80>, <PattRecClasses.GaussD.GaussD object at 0x146495fd0>, <PattRecClasses.GaussD.GaussD object at 0x146496430>, <PattRecClasses.GaussD.GaussD object at 0x146496580>, <PattRecClasses.GaussD.GaussD object at 0x146496670>]\n"
     ]
    }
   ],
   "source": [
    "from IsolatedWordRecognizer import IsolatedWordRecognizer\n",
    "\n",
    "import numpy as np\n",
    "import os\n",
    "\n",
    "mfccDataPath = \"mfcc/transform/data/\"\n",
    "\n",
    "wordsToRecognize = [\"yes\", \"down\", \"right\", \"no\", \"left\", \"up\", \"on\", \"off\", \"stop\", \"go\"]\n",
    "isolatedWordRecognizers = {}\n",
    "\n",
    "for word in wordsToRecognize:\n",
    "    isolatedWordRecognizers[word] = IsolatedWordRecognizer(word)\n",
    "\n",
    "\n",
    "def getTrainingDataForWord(word):\n",
    "    trainingDataSet = []\n",
    "    trainingDirectory = mfccDataPath + word + \"/train/\"\n",
    "    count = 0\n",
    "    for file in os.listdir(trainingDirectory):\n",
    "        if count < 2000:  # settling for 2000 data points as that is almost all of them\n",
    "            npyFileName = os.fsdecode(file)\n",
    "            features = np.load(trainingDirectory + npyFileName)\n",
    "            trainingDataSet.append(features)\n",
    "            count += 1\n",
    "            \n",
    "    return trainingDataSet\n",
    "\n",
    "\n",
    "\n",
    "for word in wordsToRecognize:\n",
    "    trainingDataSetForWord = getTrainingDataForWord(word)\n",
    "    isolatedWordRecognizers[word].train(trainingDataSetForWord)\n",
    "    isolatedWordRecognizers[word].saveModel()\n"
   ]
  }
 ],
 "metadata": {
  "kernelspec": {
   "display_name": "Python 3 (ipykernel)",
   "language": "python",
   "name": "python3"
  },
  "language_info": {
   "codemirror_mode": {
    "name": "ipython",
    "version": 3
   },
   "file_extension": ".py",
   "mimetype": "text/x-python",
   "name": "python",
   "nbconvert_exporter": "python",
   "pygments_lexer": "ipython3",
   "version": "3.9.12"
  }
 },
 "nbformat": 4,
 "nbformat_minor": 5
}
