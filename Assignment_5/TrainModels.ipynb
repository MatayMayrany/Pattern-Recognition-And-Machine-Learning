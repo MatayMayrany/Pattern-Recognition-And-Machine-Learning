{
 "cells": [
  {
   "cell_type": "code",
   "execution_count": null,
   "id": "5e5a2675-bdf3-48b5-98d4-863c6863855b",
   "metadata": {},
   "outputs": [],
   "source": []
  },
  {
   "cell_type": "code",
   "execution_count": 1,
   "id": "d4a0983a-c403-427a-a11a-de4f8ba39965",
   "metadata": {},
   "outputs": [
    {
     "name": "stdout",
     "output_type": "stream",
     "text": [
      "[0.25 0.25 0.25 0.25 0.  ]\n",
      "[[0.25  0.25  0.25  0.25  0.   ]\n",
      " [0.25  0.25  0.25  0.25  0.   ]\n",
      " [0.25  0.25  0.25  0.25  0.   ]\n",
      " [0.25  0.25  0.25  0.125 0.125]]\n",
      "[<PattRecClasses.GaussD.GaussD object at 0x14a251400>, <PattRecClasses.GaussD.GaussD object at 0x14a251220>, <PattRecClasses.GaussD.GaussD object at 0x14a23d880>, <PattRecClasses.GaussD.GaussD object at 0x14a23d160>, <PattRecClasses.GaussD.GaussD object at 0x14a23db20>]\n"
     ]
    },
    {
     "ename": "NameError",
     "evalue": "name 'j' is not defined",
     "output_type": "error",
     "traceback": [
      "\u001b[0;31m---------------------------------------------------------------------------\u001b[0m",
      "\u001b[0;31mNameError\u001b[0m                                 Traceback (most recent call last)",
      "Input \u001b[0;32mIn [1]\u001b[0m, in \u001b[0;36m<cell line: 30>\u001b[0;34m()\u001b[0m\n\u001b[1;32m     30\u001b[0m \u001b[38;5;28;01mfor\u001b[39;00m word \u001b[38;5;129;01min\u001b[39;00m wordsToRecognize:\n\u001b[1;32m     31\u001b[0m     trainingDataSetForWord \u001b[38;5;241m=\u001b[39m getTrainingDataForWord(word)\n\u001b[0;32m---> 32\u001b[0m     \u001b[43misolatedWordRecognizers\u001b[49m\u001b[43m[\u001b[49m\u001b[43mword\u001b[49m\u001b[43m]\u001b[49m\u001b[38;5;241;43m.\u001b[39;49m\u001b[43mtrain\u001b[49m\u001b[43m(\u001b[49m\u001b[43mtrainingDataSetForWord\u001b[49m\u001b[43m)\u001b[49m\n\u001b[1;32m     33\u001b[0m     isolatedWordRecognizers[word]\u001b[38;5;241m.\u001b[39msaveModel()\n",
      "File \u001b[0;32m~/Desktop/kth/Pattern-Recognition-and-Machin-Learning/Assignment_5/IsolatedWordRecognizer.py:81\u001b[0m, in \u001b[0;36mIsolatedWordRecognizer.train\u001b[0;34m(self, dataset)\u001b[0m\n\u001b[1;32m     79\u001b[0m averageNumberOfFeatures \u001b[38;5;241m=\u001b[39m \u001b[38;5;28mint\u001b[39m(np\u001b[38;5;241m.\u001b[39mmean([datapoint\u001b[38;5;241m.\u001b[39mshape[\u001b[38;5;241m1\u001b[39m] \u001b[38;5;28;01mfor\u001b[39;00m datapoint \u001b[38;5;129;01min\u001b[39;00m dataset])) \n\u001b[1;32m     80\u001b[0m \u001b[38;5;28mself\u001b[39m\u001b[38;5;241m.\u001b[39mHMM \u001b[38;5;241m=\u001b[39m \u001b[38;5;28mself\u001b[39m\u001b[38;5;241m.\u001b[39mgetInitialModel(averageNumberOfFeatures, dataset[\u001b[38;5;241m0\u001b[39m]\u001b[38;5;241m.\u001b[39mshape[\u001b[38;5;241m0\u001b[39m])\n\u001b[0;32m---> 81\u001b[0m \u001b[38;5;28;01mreturn\u001b[39;00m \u001b[38;5;28;43mself\u001b[39;49m\u001b[38;5;241;43m.\u001b[39;49m\u001b[43mHMM\u001b[49m\u001b[38;5;241;43m.\u001b[39;49m\u001b[43mbaum_welch\u001b[49m\u001b[43m(\u001b[49m\u001b[43mdataset\u001b[49m\u001b[43m,\u001b[49m\u001b[43m \u001b[49m\u001b[38;5;241;43m2\u001b[39;49m\u001b[43m)\u001b[49m\n",
      "File \u001b[0;32m~/Desktop/kth/Pattern-Recognition-and-Machin-Learning/Assignment_5/PattRecClasses/HMM.py:219\u001b[0m, in \u001b[0;36mHMM.baum_welch\u001b[0;34m(self, dataset, iterations)\u001b[0m\n\u001b[1;32m    216\u001b[0m \u001b[38;5;28mself\u001b[39m\u001b[38;5;241m.\u001b[39mstateGen\u001b[38;5;241m.\u001b[39mA \u001b[38;5;241m=\u001b[39m updatedA\n\u001b[1;32m    218\u001b[0m \u001b[38;5;66;03m#evaluate improved emission matrix\u001b[39;00m\n\u001b[0;32m--> 219\u001b[0m mean, cov \u001b[38;5;241m=\u001b[39m \u001b[38;5;28;43mself\u001b[39;49m\u001b[38;5;241;43m.\u001b[39;49m\u001b[43mgetBInfo\u001b[49m\u001b[43m(\u001b[49m\u001b[43mdataset\u001b[49m\u001b[43m,\u001b[49m\u001b[43m \u001b[49m\u001b[43mgammas\u001b[49m\u001b[43m)\u001b[49m\n\u001b[1;32m    220\u001b[0m updatedOutputDistribution \u001b[38;5;241m=\u001b[39m [GaussD(mean[i], cov\u001b[38;5;241m=\u001b[39mcov[i]) \u001b[38;5;28;01mfor\u001b[39;00m i \u001b[38;5;129;01min\u001b[39;00m \u001b[38;5;28mrange\u001b[39m(\u001b[38;5;28mlen\u001b[39m(\u001b[38;5;28mself\u001b[39m\u001b[38;5;241m.\u001b[39moutputDistr))]\n\u001b[1;32m    221\u001b[0m \u001b[38;5;28mself\u001b[39m\u001b[38;5;241m.\u001b[39moutputDistr \u001b[38;5;241m=\u001b[39m updatedOutputDistribution\n",
      "File \u001b[0;32m~/Desktop/kth/Pattern-Recognition-and-Machin-Learning/Assignment_5/PattRecClasses/HMM.py:189\u001b[0m, in \u001b[0;36mHMM.getBInfo\u001b[0;34m(self, dataset, gammas)\u001b[0m\n\u001b[1;32m    187\u001b[0m \u001b[38;5;28;01mfor\u001b[39;00m i \u001b[38;5;129;01min\u001b[39;00m \u001b[38;5;28mrange\u001b[39m(data\u001b[38;5;241m.\u001b[39mshape[\u001b[38;5;241m1\u001b[39m]):\n\u001b[1;32m    188\u001b[0m     \u001b[38;5;28;01mfor\u001b[39;00m t \u001b[38;5;129;01min\u001b[39;00m \u001b[38;5;28mrange\u001b[39m(T \u001b[38;5;241m-\u001b[39m \u001b[38;5;241m1\u001b[39m):\n\u001b[0;32m--> 189\u001b[0m         gamma \u001b[38;5;241m=\u001b[39m gammas[datapointIndex][t][\u001b[43mj\u001b[49m]\n\u001b[1;32m    190\u001b[0m         g[t] \u001b[38;5;241m+\u001b[39m\u001b[38;5;241m=\u001b[39m gamma\n\u001b[1;32m    191\u001b[0m         m[t] \u001b[38;5;241m+\u001b[39m\u001b[38;5;241m=\u001b[39m data[:, i] \u001b[38;5;241m*\u001b[39m gamma \n",
      "\u001b[0;31mNameError\u001b[0m: name 'j' is not defined"
     ]
    }
   ],
   "source": [
    "from IsolatedWordRecognizer import IsolatedWordRecognizer\n",
    "\n",
    "import numpy as np\n",
    "import os\n",
    "\n",
    "mfccDataPath = \"mfcc/transform/data/\"\n",
    "\n",
    "wordsToRecognize = [\"yes\", \"down\", \"right\", \"no\", \"left\", \"up\", \"on\", \"off\", \"stop\", \"go\"]\n",
    "isolatedWordRecognizers = {}\n",
    "\n",
    "for word in wordsToRecognize:\n",
    "    isolatedWordRecognizers[word] = IsolatedWordRecognizer(word)\n",
    "\n",
    "\n",
    "def getTrainingDataForWord(word):\n",
    "    trainingDataSet = []\n",
    "    trainingDirectory = mfccDataPath + word + \"/train/\"\n",
    "    count = 0\n",
    "    for file in os.listdir(trainingDirectory):\n",
    "        if count < 2000:  # settling for 2000 data points as that is almost all of them\n",
    "            npyFileName = os.fsdecode(file)\n",
    "            features = np.load(trainingDirectory + npyFileName)\n",
    "            trainingDataSet.append(features)\n",
    "            count += 1\n",
    "            \n",
    "    return trainingDataSet\n",
    "\n",
    "\n",
    "\n",
    "for word in wordsToRecognize:\n",
    "    trainingDataSetForWord = getTrainingDataForWord(word)\n",
    "    isolatedWordRecognizers[word].train(trainingDataSetForWord)\n",
    "    isolatedWordRecognizers[word].saveModel()\n"
   ]
  },
  {
   "cell_type": "code",
   "execution_count": null,
   "id": "c64c5ae7-d0ab-4a95-99d3-37f12fb75949",
   "metadata": {},
   "outputs": [],
   "source": []
  }
 ],
 "metadata": {
  "kernelspec": {
   "display_name": "Python 3 (ipykernel)",
   "language": "python",
   "name": "python3"
  },
  "language_info": {
   "codemirror_mode": {
    "name": "ipython",
    "version": 3
   },
   "file_extension": ".py",
   "mimetype": "text/x-python",
   "name": "python",
   "nbconvert_exporter": "python",
   "pygments_lexer": "ipython3",
   "version": "3.9.12"
  }
 },
 "nbformat": 4,
 "nbformat_minor": 5
}
